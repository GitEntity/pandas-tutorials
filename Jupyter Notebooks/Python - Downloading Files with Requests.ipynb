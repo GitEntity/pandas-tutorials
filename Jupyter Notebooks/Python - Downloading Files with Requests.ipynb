{
 "cells": [
  {
   "cell_type": "code",
   "execution_count": 1,
   "metadata": {},
   "outputs": [],
   "source": [
    "import requests as req"
   ]
  },
  {
   "cell_type": "code",
   "execution_count": 3,
   "metadata": {},
   "outputs": [],
   "source": [
    "with req.get('http://bit.ly/ofac_sanctions_csv') as rq:\n",
    "    with open('my_csv.csv', 'wb') as file:\n",
    "        file.write(rq.content)"
   ]
  },
  {
   "cell_type": "code",
   "execution_count": 4,
   "metadata": {},
   "outputs": [
    {
     "name": "stdout",
     "output_type": "stream",
     "text": [
      "{'Content-Security-Policy': \"default-src 'none'; style-src 'unsafe-inline'; sandbox\", 'Strict-Transport-Security': 'max-age=31536000', 'X-Content-Type-Options': 'nosniff', 'X-Frame-Options': 'deny', 'X-XSS-Protection': '1; mode=block', 'ETag': 'W/\"79dd16546aeeb89bd0c814d858f6bb976023bd1f0fc6074a154614c503a22a1a\"', 'Content-Type': 'text/plain; charset=utf-8', 'Cache-Control': 'max-age=300', 'X-Geo-Block-List': '', 'Via': '1.1 varnish (Varnish/6.0), 1.1 varnish', 'X-GitHub-Request-Id': 'BD12:06E3:88A23:AB3A1:5E44B54F', 'Content-Encoding': 'gzip', 'Content-Length': '16264', 'Accept-Ranges': 'bytes', 'Date': 'Thu, 13 Feb 2020 02:45:30 GMT', 'Connection': 'keep-alive', 'X-Served-By': 'cache-yyz4542-YYZ', 'X-Cache': 'HIT', 'X-Cache-Hits': '1', 'X-Timer': 'S1581561931.826556,VS0,VE0', 'Vary': 'Authorization,Accept-Encoding', 'Access-Control-Allow-Origin': '*', 'X-Fastly-Request-ID': '0b8adcccbafc427809f05699ff82c32bf2e28f67', 'Expires': 'Thu, 13 Feb 2020 02:50:30 GMT', 'Source-Age': '244'}\n"
     ]
    }
   ],
   "source": [
    "with req.get('http://bit.ly/ofac_sanctions_csv') as rq:\n",
    "    #with open('my_csv.csv', 'wb') as file:\n",
    "        #file.write(rq.content)\n",
    "        print(rq.headers)"
   ]
  },
  {
   "cell_type": "code",
   "execution_count": 5,
   "metadata": {},
   "outputs": [
    {
     "name": "stdout",
     "output_type": "stream",
     "text": [
      "ascii\n"
     ]
    }
   ],
   "source": [
    "with req.get('http://bit.ly/ofac_sanctions_csv') as rq:\n",
    "    #with open('my_csv.csv', 'wb') as file:\n",
    "        #file.write(rq.content)\n",
    "        print(rq.apparent_encoding)"
   ]
  },
  {
   "cell_type": "code",
   "execution_count": 6,
   "metadata": {},
   "outputs": [
    {
     "name": "stdout",
     "output_type": "stream",
     "text": [
      "0:00:00.164176\n"
     ]
    }
   ],
   "source": [
    "with req.get('http://bit.ly/ofac_sanctions_csv') as rq:\n",
    "    #with open('my_csv.csv', 'wb') as file:\n",
    "        #file.write(rq.content)\n",
    "        print(rq.elapsed)"
   ]
  },
  {
   "cell_type": "code",
   "execution_count": 7,
   "metadata": {},
   "outputs": [
    {
     "name": "stdout",
     "output_type": "stream",
     "text": [
      "True\n"
     ]
    }
   ],
   "source": [
    "with req.get('http://bit.ly/ofac_sanctions_csv') as rq:\n",
    "    #with open('my_csv.csv', 'wb') as file:\n",
    "        #file.write(rq.content)\n",
    "        print(rq.ok)"
   ]
  },
  {
   "cell_type": "code",
   "execution_count": 8,
   "metadata": {},
   "outputs": [
    {
     "name": "stdout",
     "output_type": "stream",
     "text": [
      "https://raw.githubusercontent.com/GitEntity/pandas-tutorials/master/Datasets/ofac_sanctions_cons.csv\n"
     ]
    }
   ],
   "source": [
    "with req.get('http://bit.ly/ofac_sanctions_csv') as rq:\n",
    "    #with open('my_csv.csv', 'wb') as file:\n",
    "        #file.write(rq.content)\n",
    "        print(rq.url)"
   ]
  },
  {
   "cell_type": "code",
   "execution_count": 9,
   "metadata": {},
   "outputs": [],
   "source": [
    "with req.get('http://bit.ly/ofac_sanctions_csv', stream=True) as rq:\n",
    "    with open('my_csv_streamed.csv', 'wb') as file:\n",
    "        for line in rq.iter_lines(delimiter=b'\\\\n'):\n",
    "            file.write(line)"
   ]
  },
  {
   "cell_type": "code",
   "execution_count": null,
   "metadata": {},
   "outputs": [],
   "source": []
  }
 ],
 "metadata": {
  "kernelspec": {
   "display_name": "Python 3",
   "language": "python",
   "name": "python3"
  },
  "language_info": {
   "codemirror_mode": {
    "name": "ipython",
    "version": 3
   },
   "file_extension": ".py",
   "mimetype": "text/x-python",
   "name": "python",
   "nbconvert_exporter": "python",
   "pygments_lexer": "ipython3",
   "version": "3.7.3"
  }
 },
 "nbformat": 4,
 "nbformat_minor": 2
}
